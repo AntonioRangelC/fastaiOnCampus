{
  "nbformat": 4,
  "nbformat_minor": 0,
  "metadata": {
    "colab": {
      "provenance": []
    },
    "kernelspec": {
      "name": "python3",
      "display_name": "Python 3"
    },
    "language_info": {
      "name": "python"
    },
    "widgets": {
      "application/vnd.jupyter.widget-state+json": {
        "28fc809f93904eefaec5b241d9abeefb": {
          "model_module": "@jupyter-widgets/controls",
          "model_name": "VBoxModel",
          "model_module_version": "1.5.0",
          "state": {
            "_dom_classes": [
              "widget-interact"
            ],
            "_model_module": "@jupyter-widgets/controls",
            "_model_module_version": "1.5.0",
            "_model_name": "VBoxModel",
            "_view_count": null,
            "_view_module": "@jupyter-widgets/controls",
            "_view_module_version": "1.5.0",
            "_view_name": "VBoxView",
            "box_style": "",
            "children": [
              "IPY_MODEL_cfba521cb2b84a5fb837b625cc7d742b",
              "IPY_MODEL_79a24aadb2ed4aa8b9e931001888a074",
              "IPY_MODEL_d85b610d0a4e455e9001da6ba693fe50"
            ],
            "layout": "IPY_MODEL_7030173b05084173a10726dea79f016f"
          }
        },
        "cfba521cb2b84a5fb837b625cc7d742b": {
          "model_module": "@jupyter-widgets/controls",
          "model_name": "DropdownModel",
          "model_module_version": "1.5.0",
          "state": {
            "_dom_classes": [],
            "_model_module": "@jupyter-widgets/controls",
            "_model_module_version": "1.5.0",
            "_model_name": "DropdownModel",
            "_options_labels": [
              "age",
              "birth_year",
              "games",
              "games_starts",
              "minutes",
              "minutes_90s",
              "assists",
              "assists_per90"
            ],
            "_view_count": null,
            "_view_module": "@jupyter-widgets/controls",
            "_view_module_version": "1.5.0",
            "_view_name": "DropdownView",
            "description": "nm",
            "description_tooltip": null,
            "disabled": false,
            "index": 0,
            "layout": "IPY_MODEL_b99b0e1550644daabea5fdb3fbd3c3ea",
            "style": "IPY_MODEL_ad108dbca7ec4405b4d20a6311ede81b"
          }
        },
        "79a24aadb2ed4aa8b9e931001888a074": {
          "model_module": "@jupyter-widgets/controls",
          "model_name": "FloatSliderModel",
          "model_module_version": "1.5.0",
          "state": {
            "_dom_classes": [],
            "_model_module": "@jupyter-widgets/controls",
            "_model_module_version": "1.5.0",
            "_model_name": "FloatSliderModel",
            "_view_count": null,
            "_view_module": "@jupyter-widgets/controls",
            "_view_module_version": "1.5.0",
            "_view_name": "FloatSliderView",
            "continuous_update": true,
            "description": "split",
            "description_tooltip": null,
            "disabled": false,
            "layout": "IPY_MODEL_3a74f9f469e24891b478d9d314172a70",
            "max": 46.5,
            "min": -15.5,
            "orientation": "horizontal",
            "readout": true,
            "readout_format": ".2f",
            "step": 0.1,
            "style": "IPY_MODEL_8bbfd9bf1792405386e8b93723066721",
            "value": 15.5
          }
        },
        "d85b610d0a4e455e9001da6ba693fe50": {
          "model_module": "@jupyter-widgets/output",
          "model_name": "OutputModel",
          "model_module_version": "1.0.0",
          "state": {
            "_dom_classes": [],
            "_model_module": "@jupyter-widgets/output",
            "_model_module_version": "1.0.0",
            "_model_name": "OutputModel",
            "_view_count": null,
            "_view_module": "@jupyter-widgets/output",
            "_view_module_version": "1.0.0",
            "_view_name": "OutputView",
            "layout": "IPY_MODEL_ff773422b5f74867981805a9822bb2db",
            "msg_id": "",
            "outputs": [
              {
                "output_type": "display_data",
                "data": {
                  "text/plain": "0.38325138097306155"
                },
                "metadata": {}
              }
            ]
          }
        },
        "7030173b05084173a10726dea79f016f": {
          "model_module": "@jupyter-widgets/base",
          "model_name": "LayoutModel",
          "model_module_version": "1.2.0",
          "state": {
            "_model_module": "@jupyter-widgets/base",
            "_model_module_version": "1.2.0",
            "_model_name": "LayoutModel",
            "_view_count": null,
            "_view_module": "@jupyter-widgets/base",
            "_view_module_version": "1.2.0",
            "_view_name": "LayoutView",
            "align_content": null,
            "align_items": null,
            "align_self": null,
            "border": null,
            "bottom": null,
            "display": null,
            "flex": null,
            "flex_flow": null,
            "grid_area": null,
            "grid_auto_columns": null,
            "grid_auto_flow": null,
            "grid_auto_rows": null,
            "grid_column": null,
            "grid_gap": null,
            "grid_row": null,
            "grid_template_areas": null,
            "grid_template_columns": null,
            "grid_template_rows": null,
            "height": null,
            "justify_content": null,
            "justify_items": null,
            "left": null,
            "margin": null,
            "max_height": null,
            "max_width": null,
            "min_height": null,
            "min_width": null,
            "object_fit": null,
            "object_position": null,
            "order": null,
            "overflow": null,
            "overflow_x": null,
            "overflow_y": null,
            "padding": null,
            "right": null,
            "top": null,
            "visibility": null,
            "width": null
          }
        },
        "b99b0e1550644daabea5fdb3fbd3c3ea": {
          "model_module": "@jupyter-widgets/base",
          "model_name": "LayoutModel",
          "model_module_version": "1.2.0",
          "state": {
            "_model_module": "@jupyter-widgets/base",
            "_model_module_version": "1.2.0",
            "_model_name": "LayoutModel",
            "_view_count": null,
            "_view_module": "@jupyter-widgets/base",
            "_view_module_version": "1.2.0",
            "_view_name": "LayoutView",
            "align_content": null,
            "align_items": null,
            "align_self": null,
            "border": null,
            "bottom": null,
            "display": null,
            "flex": null,
            "flex_flow": null,
            "grid_area": null,
            "grid_auto_columns": null,
            "grid_auto_flow": null,
            "grid_auto_rows": null,
            "grid_column": null,
            "grid_gap": null,
            "grid_row": null,
            "grid_template_areas": null,
            "grid_template_columns": null,
            "grid_template_rows": null,
            "height": null,
            "justify_content": null,
            "justify_items": null,
            "left": null,
            "margin": null,
            "max_height": null,
            "max_width": null,
            "min_height": null,
            "min_width": null,
            "object_fit": null,
            "object_position": null,
            "order": null,
            "overflow": null,
            "overflow_x": null,
            "overflow_y": null,
            "padding": null,
            "right": null,
            "top": null,
            "visibility": null,
            "width": null
          }
        },
        "ad108dbca7ec4405b4d20a6311ede81b": {
          "model_module": "@jupyter-widgets/controls",
          "model_name": "DescriptionStyleModel",
          "model_module_version": "1.5.0",
          "state": {
            "_model_module": "@jupyter-widgets/controls",
            "_model_module_version": "1.5.0",
            "_model_name": "DescriptionStyleModel",
            "_view_count": null,
            "_view_module": "@jupyter-widgets/base",
            "_view_module_version": "1.2.0",
            "_view_name": "StyleView",
            "description_width": ""
          }
        },
        "3a74f9f469e24891b478d9d314172a70": {
          "model_module": "@jupyter-widgets/base",
          "model_name": "LayoutModel",
          "model_module_version": "1.2.0",
          "state": {
            "_model_module": "@jupyter-widgets/base",
            "_model_module_version": "1.2.0",
            "_model_name": "LayoutModel",
            "_view_count": null,
            "_view_module": "@jupyter-widgets/base",
            "_view_module_version": "1.2.0",
            "_view_name": "LayoutView",
            "align_content": null,
            "align_items": null,
            "align_self": null,
            "border": null,
            "bottom": null,
            "display": null,
            "flex": null,
            "flex_flow": null,
            "grid_area": null,
            "grid_auto_columns": null,
            "grid_auto_flow": null,
            "grid_auto_rows": null,
            "grid_column": null,
            "grid_gap": null,
            "grid_row": null,
            "grid_template_areas": null,
            "grid_template_columns": null,
            "grid_template_rows": null,
            "height": null,
            "justify_content": null,
            "justify_items": null,
            "left": null,
            "margin": null,
            "max_height": null,
            "max_width": null,
            "min_height": null,
            "min_width": null,
            "object_fit": null,
            "object_position": null,
            "order": null,
            "overflow": null,
            "overflow_x": null,
            "overflow_y": null,
            "padding": null,
            "right": null,
            "top": null,
            "visibility": null,
            "width": null
          }
        },
        "8bbfd9bf1792405386e8b93723066721": {
          "model_module": "@jupyter-widgets/controls",
          "model_name": "SliderStyleModel",
          "model_module_version": "1.5.0",
          "state": {
            "_model_module": "@jupyter-widgets/controls",
            "_model_module_version": "1.5.0",
            "_model_name": "SliderStyleModel",
            "_view_count": null,
            "_view_module": "@jupyter-widgets/base",
            "_view_module_version": "1.2.0",
            "_view_name": "StyleView",
            "description_width": "",
            "handle_color": null
          }
        },
        "ff773422b5f74867981805a9822bb2db": {
          "model_module": "@jupyter-widgets/base",
          "model_name": "LayoutModel",
          "model_module_version": "1.2.0",
          "state": {
            "_model_module": "@jupyter-widgets/base",
            "_model_module_version": "1.2.0",
            "_model_name": "LayoutModel",
            "_view_count": null,
            "_view_module": "@jupyter-widgets/base",
            "_view_module_version": "1.2.0",
            "_view_name": "LayoutView",
            "align_content": null,
            "align_items": null,
            "align_self": null,
            "border": null,
            "bottom": null,
            "display": null,
            "flex": null,
            "flex_flow": null,
            "grid_area": null,
            "grid_auto_columns": null,
            "grid_auto_flow": null,
            "grid_auto_rows": null,
            "grid_column": null,
            "grid_gap": null,
            "grid_row": null,
            "grid_template_areas": null,
            "grid_template_columns": null,
            "grid_template_rows": null,
            "height": null,
            "justify_content": null,
            "justify_items": null,
            "left": null,
            "margin": null,
            "max_height": null,
            "max_width": null,
            "min_height": null,
            "min_width": null,
            "object_fit": null,
            "object_position": null,
            "order": null,
            "overflow": null,
            "overflow_x": null,
            "overflow_y": null,
            "padding": null,
            "right": null,
            "top": null,
            "visibility": null,
            "width": null
          }
        }
      }
    }
  },
  "cells": [
    {
      "cell_type": "markdown",
      "source": [
        "# **Lição 6 - Usando Random Forests para prever a probabilidade de um jogador fazer gol na Copa do Mundo de 2022**\n",
        "## **Objetivo**: Dado um [DataSet](https://www.kaggle.com/datasets/swaptr/fifa-world-cup-2022-player-data?select=player_stats.csv) com estatísticas dos jogadores, criar um modelo que consegue prever se um jogador fictício faria gol ou não na competição\n",
        "### **Aluno** : Antonio Rangel Chaves\n",
        "### **Matrícula** : 180098021 \n",
        "### Link para o modelo no Hugging Face: https://huggingface.co/spaces/AntonioRangelC/licao6_fastai"
      ],
      "metadata": {
        "id": "bzYVkobDybnt"
      }
    },
    {
      "cell_type": "markdown",
      "source": [
        "## Passo 1: Fazendo imports e instalando dependências"
      ],
      "metadata": {
        "id": "DaLiy0Q94wik"
      }
    },
    {
      "cell_type": "code",
      "source": [
        "from pathlib import Path\n",
        "import os\n",
        "import zipfile\n",
        "\n",
        "!pip install -Uqq fastai\n",
        "!pip install kaggle"
      ],
      "metadata": {
        "id": "ifMSpGgJ4L1K",
        "colab": {
          "base_uri": "https://localhost:8080/"
        },
        "outputId": "31a578d1-cea5-4f82-901b-56b43677fcce"
      },
      "execution_count": 1,
      "outputs": [
        {
          "output_type": "stream",
          "name": "stdout",
          "text": [
            "Looking in indexes: https://pypi.org/simple, https://us-python.pkg.dev/colab-wheels/public/simple/\n",
            "Requirement already satisfied: kaggle in /usr/local/lib/python3.8/dist-packages (1.5.12)\n",
            "Requirement already satisfied: python-dateutil in /usr/local/lib/python3.8/dist-packages (from kaggle) (2.8.2)\n",
            "Requirement already satisfied: six>=1.10 in /usr/local/lib/python3.8/dist-packages (from kaggle) (1.15.0)\n",
            "Requirement already satisfied: certifi in /usr/local/lib/python3.8/dist-packages (from kaggle) (2022.12.7)\n",
            "Requirement already satisfied: urllib3 in /usr/local/lib/python3.8/dist-packages (from kaggle) (1.24.3)\n",
            "Requirement already satisfied: python-slugify in /usr/local/lib/python3.8/dist-packages (from kaggle) (7.0.0)\n",
            "Requirement already satisfied: tqdm in /usr/local/lib/python3.8/dist-packages (from kaggle) (4.64.1)\n",
            "Requirement already satisfied: requests in /usr/local/lib/python3.8/dist-packages (from kaggle) (2.25.1)\n",
            "Requirement already satisfied: text-unidecode>=1.3 in /usr/local/lib/python3.8/dist-packages (from python-slugify->kaggle) (1.3)\n",
            "Requirement already satisfied: idna<3,>=2.5 in /usr/local/lib/python3.8/dist-packages (from requests->kaggle) (2.10)\n",
            "Requirement already satisfied: chardet<5,>=3.0.2 in /usr/local/lib/python3.8/dist-packages (from requests->kaggle) (4.0.0)\n"
          ]
        }
      ]
    },
    {
      "cell_type": "markdown",
      "source": [
        "## Passo 2: Baixando as tabelas com dados dos jogadores da copa do mundo, colocando-as em um diretório e fazendo autenticação no Kaggle\n",
        "É necessário fazer essa autenticação para baixar bases de dados disponíveis no Kaggle"
      ],
      "metadata": {
        "id": "CIxZY2pn46qg"
      }
    },
    {
      "cell_type": "code",
      "execution_count": 4,
      "metadata": {
        "colab": {
          "base_uri": "https://localhost:8080/"
        },
        "id": "6UI8_7mDyVfq",
        "outputId": "62c47fb3-0e96-4ce6-919d-b5db5cbe6672"
      },
      "outputs": [
        {
          "output_type": "stream",
          "name": "stdout",
          "text": [
            "Downloading fifa-world-cup-2022-player-data.zip to /content\n",
            "\r  0% 0.00/213k [00:00<?, ?B/s]\n",
            "\r100% 213k/213k [00:00<00:00, 67.0MB/s]\n"
          ]
        }
      ],
      "source": [
        "\n",
        "!kaggle datasets download -d swaptr/fifa-world-cup-2022-player-data\n",
        "\n",
        "cred_path = Path('~/.kaggle/kaggle.json').expanduser()\n",
        "\n",
        "if not cred_path.exists():\n",
        "    cred_path.parent.mkdir(exist_ok=True)\n",
        "    cred_path.write_text(creds)\n",
        "    cred_path.chmod(0o600)\n",
        "\n",
        "\n",
        "\n",
        "\n",
        "        "
      ]
    },
    {
      "cell_type": "markdown",
      "source": [
        "## Passo 3: Extraindo o arquivo do DataSet compactado dentro do diretório"
      ],
      "metadata": {
        "id": "mUCIlbbb5qLh"
      }
    },
    {
      "cell_type": "code",
      "source": [
        "caminho = Path('fifa-world-cup-2022-player-data') \n",
        "zipfile.ZipFile(f'{caminho}.zip').extractall(caminho)"
      ],
      "metadata": {
        "id": "qbmTJQIRSGop"
      },
      "execution_count": 6,
      "outputs": []
    },
    {
      "cell_type": "markdown",
      "source": [
        "## Passo 4: Carregando os arquivos .csv com as estatísticas para os DataSets do pandas\n",
        "A primeira tabela chamada 'player_stats' contém a maioria dos dados que são necessários para este artigo como: nome, idade, nacionalidade. E a tabela chamada 'player_shooting' possui uma coluna chamada 'goals', que mostra a quantidade de gols feita por cada jogador. Essa coluna será adicionada ao DataSet que irá receber a tabela 'player_stats' posteriormente."
      ],
      "metadata": {
        "id": "MBbVo9_I6CkC"
      }
    },
    {
      "cell_type": "code",
      "source": [
        "import pandas as pandas\n",
        "dataFrame_estatisticas = pandas.read_csv(caminho/'player_stats.csv')\n",
        "dataFrame_artilharia = pandas.read_csv(caminho/'player_shooting.csv')"
      ],
      "metadata": {
        "id": "2PYbXn3Y3rxk"
      },
      "execution_count": 7,
      "outputs": []
    },
    {
      "cell_type": "markdown",
      "source": [
        "## Passo 5: Adicionando a coluna de gols de cada jogador ao DataSet de estatísticas"
      ],
      "metadata": {
        "id": "G3pXmYSt75ri"
      }
    },
    {
      "cell_type": "code",
      "source": [
        "dataFrame_estatisticas['goals'] = dataFrame_artilharia['goals']\n"
      ],
      "metadata": {
        "id": "m1SSZ9JG48kM"
      },
      "execution_count": 8,
      "outputs": []
    },
    {
      "cell_type": "markdown",
      "source": [
        "## Passo 6: Editando a coluna de gols marcados\n",
        "Ao invés de usar o valor inteiro de quantos gols o jogador marcou, a coluna de gols vai armazenar se o jogador fez gol (1) ou  não (0)"
      ],
      "metadata": {
        "id": "nf39nH8VIko2"
      }
    },
    {
      "cell_type": "code",
      "source": [
        "def transform(x):\n",
        "  if x > 0:\n",
        "    return 1\n",
        "  else:\n",
        "    return 0\n",
        "\n",
        "\n",
        "dataFrame_estatisticas['goals'] = dataFrame_estatisticas['goals'].apply(transform)\n"
      ],
      "metadata": {
        "id": "hi97RqvU8be8"
      },
      "execution_count": 9,
      "outputs": []
    },
    {
      "cell_type": "markdown",
      "source": [
        "## Passo 7: Excluindo colunas que não influenciam tanto na estatística de gols marcados, ou que podem interferir no treinamento.\n",
        "As estatísticas de cartões amarelos e vermelhos estão sendo descartadas por não terem relação direta com a marcação de gols. Já as estatísticas de gols de pênaltis, gols por jogo, etc. estão sendo descartadas pois podem interferir no treinamento. Por exemplo, não faz sentido prever se o jogador fez gol, se no DataSet já possui essa resposta."
      ],
      "metadata": {
        "id": "RMWude4-IZa-"
      }
    },
    {
      "cell_type": "code",
      "source": [
        "dataFrame_estatisticas = dataFrame_estatisticas.drop(\n",
        "    columns=[ \n",
        "             'player',\n",
        "             'goals_pens', \n",
        "             'pens_made',\n",
        "             'pens_att', \n",
        "             'cards_yellow', \n",
        "             'cards_red',\n",
        "             'goals_pens_per90',\n",
        "             'goals_assists_pens_per90',\n",
        "             'goals_assists_per90',\n",
        "             'goals_per90',\n",
        "             'xg', \n",
        "             'npxg', \n",
        "             'xg_assist', \n",
        "             'npxg_xg_assist',\n",
        "             'xg_per90', \n",
        "             'xg_assist_per90', \n",
        "             'xg_xg_assist_per90', \n",
        "             'npxg_per90',\n",
        "             'npxg_xg_assist_per90'\n",
        "            ]\n",
        ")"
      ],
      "metadata": {
        "id": "8FJWI1PcGPWX"
      },
      "execution_count": 10,
      "outputs": []
    },
    {
      "cell_type": "markdown",
      "source": [
        "## Passo 8: Editando os valores da coluna Idade.\n",
        "Os valores de idade nesse DataSet possuem o formato idade-dias, e para essa lição é interessante deixar apenas a idade do jogador como número inteiro."
      ],
      "metadata": {
        "id": "OsWaKb12IAF3"
      }
    },
    {
      "cell_type": "code",
      "source": [
        "def transform_age(age):\n",
        "  age = age.split('-')[0]\n",
        "  return int(age)\n",
        "\n",
        "dataFrame_estatisticas['age'] = dataFrame_estatisticas['age'].apply(transform_age)"
      ],
      "metadata": {
        "id": "voxz3mWvGkho"
      },
      "execution_count": 11,
      "outputs": []
    },
    {
      "cell_type": "markdown",
      "source": [
        "# Passo 9: Criando categorias usando pandas\n",
        "As colunas que são categorias viram variáveis categóricas, que internamente é uma lista de valores únicos, que são substituídos por números inteiros pelo Pandas. Esses números são índices que são utilizados na busca dentro da lista."
      ],
      "metadata": {
        "id": "QkoTvVVMQ8jh"
      }
    },
    {
      "cell_type": "code",
      "source": [
        "def proc_data(dataFrame_estatisticas):\n",
        "    dataFrame_estatisticas['position'] = pandas.Categorical(dataFrame_estatisticas.position)\n",
        "    dataFrame_estatisticas['team'] = pandas.Categorical(dataFrame_estatisticas.team)\n",
        "    dataFrame_estatisticas['club'] = pandas.Categorical(dataFrame_estatisticas.club)\n",
        "\n",
        "proc_data(dataFrame_estatisticas)"
      ],
      "metadata": {
        "id": "0N-skR4ARC95"
      },
      "execution_count": 12,
      "outputs": []
    },
    {
      "cell_type": "markdown",
      "source": [
        "# Passo 10: Binary Split\n",
        "Antes de criar uma árvore de decisões, é necessário criar uma Binary Split, já que é isso que forma uma árvore de decisão"
      ],
      "metadata": {
        "id": "dox9GUVwbMPh"
      }
    },
    {
      "cell_type": "code",
      "source": [
        "categorias = [\"position\", \"team\", \"club\"]\n",
        "continuas = [\n",
        "          'age', \n",
        "          'birth_year',\n",
        "          'games',\n",
        "          'games_starts',\n",
        "          'minutes',\n",
        "          'minutes_90s',\n",
        "          'assists',\n",
        "          'assists_per90'\n",
        "          ]\n",
        "\n",
        "dependente = \"goals\""
      ],
      "metadata": {
        "id": "mdljeLoRbXVt"
      },
      "execution_count": 15,
      "outputs": []
    },
    {
      "cell_type": "markdown",
      "source": [
        "## Neste trecho de código o conjunto de validação e treinamento são formados usando as categorias definidas na célula acima, e cada categoria recebeu o código inteiro."
      ],
      "metadata": {
        "id": "z7g0GvIyoSj4"
      }
    },
    {
      "cell_type": "code",
      "source": [
        "from numpy import random\n",
        "from sklearn.model_selection import train_test_split\n",
        "import seaborn as sns\n",
        "import matplotlib.pyplot as plt\n",
        "\n",
        "random.seed(42)\n",
        "treinamento_df,validacao_df = train_test_split(dataFrame_estatisticas, test_size=0.25)\n",
        "treinamento_df[categorias] = treinamento_df[categorias].apply(lambda x: x.cat.codes)\n",
        "validacao_df[categorias] = validacao_df[categorias].apply(lambda x: x.cat.codes)\n"
      ],
      "metadata": {
        "id": "_l6wVNUVbtBP"
      },
      "execution_count": 16,
      "outputs": []
    },
    {
      "cell_type": "markdown",
      "source": [
        "## Criando as variáveis independentes (eixo x) e variáveis dependentes (eixo y)."
      ],
      "metadata": {
        "id": "RBG4T9r2pmVf"
      }
    },
    {
      "cell_type": "code",
      "source": [
        "def xs_y(dataFrame_estatisticas):\n",
        "    xs = dataFrame_estatisticas[categorias+continuas].copy()\n",
        "    return xs,dataFrame_estatisticas[dependente] if dependente in dataFrame_estatisticas else None\n",
        "\n",
        "treinamento_xs,treinamento_y = xs_y(treinamento_df)\n",
        "validacao_xs,validacao_y = xs_y(validacao_df)"
      ],
      "metadata": {
        "id": "3EKk1aMdp3Q5"
      },
      "execution_count": 17,
      "outputs": []
    },
    {
      "cell_type": "markdown",
      "source": [
        "## Fazendo Split na coluna de idade."
      ],
      "metadata": {
        "id": "6h_zgwj_qGAH"
      }
    },
    {
      "cell_type": "code",
      "source": [
        "df_idade = treinamento_df[treinamento_df.age>18]\n",
        "fig,axs = plt.subplots(1,2, figsize=(11,5))\n",
        "sns.boxenplot(data=dataFrame_estatisticas, x=dependente, y=\"age\", ax=axs[0])\n",
        "sns.kdeplot(data=dataFrame_estatisticas, x=\"age\", ax=axs[1]);"
      ],
      "metadata": {
        "colab": {
          "base_uri": "https://localhost:8080/",
          "height": 337
        },
        "id": "W0fDbM6dqKEn",
        "outputId": "23b1b05d-dc4f-4757-e724-e38bf2b1d77c"
      },
      "execution_count": 18,
      "outputs": [
        {
          "output_type": "display_data",
          "data": {
            "text/plain": [
              "<Figure size 792x360 with 2 Axes>"
            ],
            "image/png": "[encoded data removed]"
          },
          "metadata": {
            "needs_background": "light"
          }
        }
      ]
    },
    {
      "cell_type": "markdown",
      "source": [
        "É possível perceber que no gráfico à direita, a distribuição mostra que jogadores que marcam gols geralmente tem entre 24 e 30 anos, o que é totalmente correto no futebol atual, pois o auge dos jogadores está nessa faixa de idade. A mesma coisa pode ser percebida no gráfico da esquerda, onde a maior parte dos valores em laranja (marcaram gol) estão nessa faixa de idade."
      ],
      "metadata": {
        "id": "eky0fkDhqVVR"
      }
    },
    {
      "cell_type": "markdown",
      "source": [
        "## Usando ferramenta iterativa para descobrir qual coluna tem um maior score, esse score diz respeito a o quão bom um modelo é, quanto menor o score, melhor é o modelo.\n",
        "A função `_side_score()` calcula o desvio padrão da coluna, para verificar a similaridade entre as linhas, quanto mais alto o desvio padrão, maior a diferença entre essas linhas.\n",
        "\n",
        "A função `score()` calcula o score de um split, somando o da lhs (esquerda) e da rhs(direita).\n",
        "\n",
        "A função `iscore()` calcula o score do conjunto de treinamento\n",
        "\n",
        "O procedimento `interact()` cria a interface gráfica para definir manualmente o split das colunas"
      ],
      "metadata": {
        "id": "BXUOgosK77no"
      }
    },
    {
      "cell_type": "code",
      "source": [
        "def _side_score(side, y):\n",
        "    tot = side.sum()\n",
        "    if tot<=1: return 0\n",
        "    return y[side].std()*tot\n",
        "\n",
        "def score(col, y, split):\n",
        "    lhs = col<=split\n",
        "    return (_side_score(lhs,y) + _side_score(~lhs,y))/len(y)\n",
        "\n",
        "def iscore(nm, split):\n",
        "    col = treinamento_xs[nm]\n",
        "    return score(col, treinamento_y, split)\n",
        "\n",
        "from ipywidgets import interact\n",
        "interact(nm=continuas, split=15.5)(iscore);"
      ],
      "metadata": {
        "colab": {
          "base_uri": "https://localhost:8080/",
          "height": 98,
          "referenced_widgets": [
            "28fc809f93904eefaec5b241d9abeefb",
            "cfba521cb2b84a5fb837b625cc7d742b",
            "79a24aadb2ed4aa8b9e931001888a074",
            "d85b610d0a4e455e9001da6ba693fe50",
            "7030173b05084173a10726dea79f016f",
            "b99b0e1550644daabea5fdb3fbd3c3ea",
            "ad108dbca7ec4405b4d20a6311ede81b",
            "3a74f9f469e24891b478d9d314172a70",
            "8bbfd9bf1792405386e8b93723066721",
            "ff773422b5f74867981805a9822bb2db"
          ]
        },
        "id": "Hh-0qcY38jEL",
        "outputId": "904bcf44-0802-443d-9c0d-ac63cc6758f6"
      },
      "execution_count": 19,
      "outputs": [
        {
          "output_type": "display_data",
          "data": {
            "text/plain": [
              "interactive(children=(Dropdown(description='nm', options=('age', 'birth_year', 'games', 'games_starts', 'minut…"
            ],
            "application/vnd.jupyter.widget-view+json": {
              "version_major": 2,
              "version_minor": 0,
              "model_id": "28fc809f93904eefaec5b241d9abeefb"
            }
          },
          "metadata": {}
        }
      ]
    },
    {
      "cell_type": "markdown",
      "source": [
        "## Automatizando o processo de achar o melhor split das colunas\n",
        "Primeiro é necessário achar todos os splits possíveis"
      ],
      "metadata": {
        "id": "bll6pibOHcGF"
      }
    },
    {
      "cell_type": "code",
      "source": [
        "nm = \"age\"\n",
        "col = treinamento_xs[nm]\n",
        "unq = col.unique()\n",
        "unq.sort()\n",
        "unq"
      ],
      "metadata": {
        "colab": {
          "base_uri": "https://localhost:8080/"
        },
        "id": "WmYvbCwiH_lq",
        "outputId": "68f03814-6b53-4a94-a1ea-c1c9b690de8b"
      },
      "execution_count": 20,
      "outputs": [
        {
          "output_type": "execute_result",
          "data": {
            "text/plain": [
              "array([18, 19, 20, 21, 22, 23, 24, 25, 26, 27, 28, 29, 30, 31, 32, 33, 34,\n",
              "       35, 36, 37, 38, 39])"
            ]
          },
          "metadata": {},
          "execution_count": 20
        }
      ]
    },
    {
      "cell_type": "markdown",
      "source": [
        "Depois achar em qual índice o score é menor"
      ],
      "metadata": {
        "id": "jRSe1P1JIZmD"
      }
    },
    {
      "cell_type": "code",
      "source": [
        "from fastai.tabular.all import *\n",
        "scores = np.array([score(col, treinamento_y, o) for o in unq if not np.isnan(o)])\n",
        "unq[scores.argmin()]"
      ],
      "metadata": {
        "colab": {
          "base_uri": "https://localhost:8080/"
        },
        "id": "BIo2g6UZIhwj",
        "outputId": "b6b64c30-f610-444f-8136-16bda6667005"
      },
      "execution_count": 21,
      "outputs": [
        {
          "output_type": "execute_result",
          "data": {
            "text/plain": [
              "27"
            ]
          },
          "metadata": {},
          "execution_count": 21
        }
      ]
    },
    {
      "cell_type": "markdown",
      "source": [
        "Para a coluna idade, o melhor corte para o split é 27. Agora todas as colunas serão testadas."
      ],
      "metadata": {
        "id": "OpyQ4LeNJBbC"
      }
    },
    {
      "cell_type": "code",
      "source": [
        "def min_col(df, nm):\n",
        "    col,y = df[nm],df[dependente]\n",
        "    unq = col.dropna().unique()\n",
        "    scores = np.array([score(col, y, o) for o in unq if not np.isnan(o)])\n",
        "    idx = scores.argmin()\n",
        "    return unq[idx],scores[idx]\n",
        "\n",
        "cols = categorias+continuas\n",
        "{o:min_col(treinamento_df, o) for o in cols}"
      ],
      "metadata": {
        "colab": {
          "base_uri": "https://localhost:8080/"
        },
        "id": "v7xSQS2_JiIk",
        "outputId": "48cbc5f4-1ef2-4fc9-e7d4-b3ea2f74c661"
      },
      "execution_count": 22,
      "outputs": [
        {
          "output_type": "execute_result",
          "data": {
            "text/plain": [
              "{'position': (1, 0.37590420098381777),\n",
              " 'team': (27, 0.38163638547609846),\n",
              " 'club': (250, 0.38096152052803134),\n",
              " 'age': (27, 0.381998702156378),\n",
              " 'birth_year': (1994, 0.381998702156378),\n",
              " 'games': (3, 0.3554868880847467),\n",
              " 'games_starts': (2, 0.3650347365642977),\n",
              " 'minutes': (57, 0.3489243638094944),\n",
              " 'minutes_90s': (0.5, 0.35277051945107624),\n",
              " 'assists': (0, 0.37366057751612164),\n",
              " 'assists_per90': (0.13, 0.37331075706060257)}"
            ]
          },
          "metadata": {},
          "execution_count": 22
        }
      ]
    },
    {
      "cell_type": "markdown",
      "source": [
        "Segundo esse resultado, e melhor split é minutos jogados."
      ],
      "metadata": {
        "id": "6glimycEKo7-"
      }
    },
    {
      "cell_type": "markdown",
      "source": [
        "# Passo 11: Criando árvore de decisão\n",
        "Os scores listados anteriormente ajudam a criar a árvore de decisão, em que cada nó, será avaliado um split (divisão). Para facilitar a visualização da árvore, será usada a ferramenta graphviz.*texto em itálico*"
      ],
      "metadata": {
        "id": "uSWd5CToMAgU"
      }
    },
    {
      "cell_type": "code",
      "source": [
        "from sklearn.tree import DecisionTreeClassifier, export_graphviz\n",
        "import graphviz\n",
        "\n",
        "m = DecisionTreeClassifier(max_leaf_nodes=8).fit(treinamento_xs, treinamento_y);\n",
        "\n",
        "\n",
        "def draw_tree(t, dataFrame_estatisticas, size=10, ratio=1, precision=2, **kwargs):\n",
        "    s=export_graphviz(t, out_file=None, feature_names=dataFrame_estatisticas.columns, filled=True, rounded=True,\n",
        "                      special_characters=True, rotate=False, precision=precision, **kwargs)\n",
        "    return graphviz.Source(re.sub('Tree {', f'Tree {{ size={size}; ratio={ratio}', s))"
      ],
      "metadata": {
        "id": "7jWVdyR-0rYZ"
      },
      "execution_count": 32,
      "outputs": []
    },
    {
      "cell_type": "code",
      "source": [
        "draw_tree(m, treinamento_xs, size=10)"
      ],
      "metadata": {
        "colab": {
          "base_uri": "https://localhost:8080/",
          "height": 935
        },
        "id": "8NKsJl3s3BnD",
        "outputId": "613a5d97-b4f7-410a-84af-145891dc1e47"
      },
      "execution_count": 33,
      "outputs": [
        {
          "output_type": "execute_result",
          "data": {
            "text/plain": [
              "<graphviz.files.Source at 0x7f59776b7640>"
            ],
            "image/svg+xml": "<?xml version=\"1.0\" encoding=\"UTF-8\" standalone=\"no\"?>\n<!DOCTYPE svg PUBLIC \"-//W3C//DTD SVG 1.1//EN\"\n \"http://www.w3.org/Graphics/SVG/1.1/DTD/svg11.dtd\">\n<!-- Generated by graphviz version 2.43.0 (0)\n -->\n<!-- Title: Tree Pages: 1 -->\n<svg width=\"685pt\" height=\"685pt\"\n viewBox=\"0.00 0.00 685.00 685.00\" xmlns=\"http://www.w3.org/2000/svg\" xmlns:xlink=\"http://www.w3.org/1999/xlink\">\n<g id=\"graph0\" class=\"graph\" transform=\"scale(1 1) rotate(0) translate(4 681)\">\n<title>Tree</title>\n<polygon fill=\"white\" stroke=\"transparent\" points=\"-4,4 -4,-681 681,-681 681,4 -4,4\"/>\n<!-- 0 -->\n<g id=\"node1\" class=\"node\">\n<title>0</title>\n<path fill=\"#eb9c64\" stroke=\"black\" d=\"M348.65,-677C348.65,-677 255.65,-677 255.65,-677 249.65,-677 243.65,-671 243.65,-665 243.65,-665 243.65,-621 243.65,-621 243.65,-615 249.65,-609 255.65,-609 255.65,-609 348.65,-609 348.65,-609 354.65,-609 360.65,-615 360.65,-621 360.65,-621 360.65,-665 360.65,-665 360.65,-671 354.65,-677 348.65,-677\"/>\n<text text-anchor=\"start\" x=\"264.15\" y=\"-661.8\" font-family=\"Helvetica,sans-Serif\" font-size=\"14.00\">games ≤ 3.5</text>\n<text text-anchor=\"start\" x=\"270.15\" y=\"-646.8\" font-family=\"Helvetica,sans-Serif\" font-size=\"14.00\">gini = 0.29</text>\n<text text-anchor=\"start\" x=\"257.15\" y=\"-631.8\" font-family=\"Helvetica,sans-Serif\" font-size=\"14.00\">samples = 510</text>\n<text text-anchor=\"start\" x=\"251.65\" y=\"-616.8\" font-family=\"Helvetica,sans-Serif\" font-size=\"14.00\">value = [419, 91]</text>\n</g>\n<!-- 1 -->\n<g id=\"node2\" class=\"node\">\n<title>1</title>\n<path fill=\"#e88f50\" stroke=\"black\" d=\"M270.65,-573C270.65,-573 177.65,-573 177.65,-573 171.65,-573 165.65,-567 165.65,-561 165.65,-561 165.65,-517 165.65,-517 165.65,-511 171.65,-505 177.65,-505 177.65,-505 270.65,-505 270.65,-505 276.65,-505 282.65,-511 282.65,-517 282.65,-517 282.65,-561 282.65,-561 282.65,-567 276.65,-573 270.65,-573\"/>\n<text text-anchor=\"start\" x=\"179.15\" y=\"-557.8\" font-family=\"Helvetica,sans-Serif\" font-size=\"14.00\">minutes ≤ 57.5</text>\n<text text-anchor=\"start\" x=\"192.15\" y=\"-542.8\" font-family=\"Helvetica,sans-Serif\" font-size=\"14.00\">gini = 0.18</text>\n<text text-anchor=\"start\" x=\"179.15\" y=\"-527.8\" font-family=\"Helvetica,sans-Serif\" font-size=\"14.00\">samples = 362</text>\n<text text-anchor=\"start\" x=\"173.65\" y=\"-512.8\" font-family=\"Helvetica,sans-Serif\" font-size=\"14.00\">value = [325, 37]</text>\n</g>\n<!-- 0&#45;&gt;1 -->\n<g id=\"edge1\" class=\"edge\">\n<title>0&#45;&gt;1</title>\n<path fill=\"none\" stroke=\"black\" d=\"M276.83,-608.88C270.15,-600.15 262.86,-590.62 255.9,-581.51\"/>\n<polygon fill=\"black\" stroke=\"black\" points=\"258.47,-579.12 249.61,-573.3 252.91,-583.37 258.47,-579.12\"/>\n<text text-anchor=\"middle\" x=\"246.31\" y=\"-594.38\" font-family=\"Helvetica,sans-Serif\" font-size=\"14.00\">True</text>\n</g>\n<!-- 2 -->\n<g id=\"node5\" class=\"node\">\n<title>2</title>\n<path fill=\"#f4c9ab\" stroke=\"black\" d=\"M424.15,-573C424.15,-573 338.15,-573 338.15,-573 332.15,-573 326.15,-567 326.15,-561 326.15,-561 326.15,-517 326.15,-517 326.15,-511 332.15,-505 338.15,-505 338.15,-505 424.15,-505 424.15,-505 430.15,-505 436.15,-511 436.15,-517 436.15,-517 436.15,-561 436.15,-561 436.15,-567 430.15,-573 424.15,-573\"/>\n<text text-anchor=\"start\" x=\"340.65\" y=\"-557.8\" font-family=\"Helvetica,sans-Serif\" font-size=\"14.00\">position ≤ 0.5</text>\n<text text-anchor=\"start\" x=\"349.15\" y=\"-542.8\" font-family=\"Helvetica,sans-Serif\" font-size=\"14.00\">gini = 0.46</text>\n<text text-anchor=\"start\" x=\"336.15\" y=\"-527.8\" font-family=\"Helvetica,sans-Serif\" font-size=\"14.00\">samples = 148</text>\n<text text-anchor=\"start\" x=\"334.15\" y=\"-512.8\" font-family=\"Helvetica,sans-Serif\" font-size=\"14.00\">value = [94, 54]</text>\n</g>\n<!-- 0&#45;&gt;2 -->\n<g id=\"edge4\" class=\"edge\">\n<title>0&#45;&gt;2</title>\n<path fill=\"none\" stroke=\"black\" d=\"M327.8,-608.88C334.63,-600.07 342.09,-590.43 349.21,-581.24\"/>\n<polygon fill=\"black\" stroke=\"black\" points=\"352,-583.35 355.36,-573.3 346.47,-579.06 352,-583.35\"/>\n<text text-anchor=\"middle\" x=\"358.51\" y=\"-594.4\" font-family=\"Helvetica,sans-Serif\" font-size=\"14.00\">False</text>\n</g>\n<!-- 9 -->\n<g id=\"node3\" class=\"node\">\n<title>9</title>\n<path fill=\"#e5823b\" stroke=\"black\" d=\"M109.15,-461.5C109.15,-461.5 23.15,-461.5 23.15,-461.5 17.15,-461.5 11.15,-455.5 11.15,-449.5 11.15,-449.5 11.15,-420.5 11.15,-420.5 11.15,-414.5 17.15,-408.5 23.15,-408.5 23.15,-408.5 109.15,-408.5 109.15,-408.5 115.15,-408.5 121.15,-414.5 121.15,-420.5 121.15,-420.5 121.15,-449.5 121.15,-449.5 121.15,-455.5 115.15,-461.5 109.15,-461.5\"/>\n<text text-anchor=\"start\" x=\"34.15\" y=\"-446.3\" font-family=\"Helvetica,sans-Serif\" font-size=\"14.00\">gini = 0.02</text>\n<text text-anchor=\"start\" x=\"21.15\" y=\"-431.3\" font-family=\"Helvetica,sans-Serif\" font-size=\"14.00\">samples = 109</text>\n<text text-anchor=\"start\" x=\"19.15\" y=\"-416.3\" font-family=\"Helvetica,sans-Serif\" font-size=\"14.00\">value = [108, 1]</text>\n</g>\n<!-- 1&#45;&gt;9 -->\n<g id=\"edge2\" class=\"edge\">\n<title>1&#45;&gt;9</title>\n<path fill=\"none\" stroke=\"black\" d=\"M172.85,-504.88C154.03,-492.73 132.8,-479.03 114.26,-467.06\"/>\n<polygon fill=\"black\" stroke=\"black\" points=\"115.98,-464 105.68,-461.52 112.18,-469.88 115.98,-464\"/>\n</g>\n<!-- 10 -->\n<g id=\"node4\" class=\"node\">\n<title>10</title>\n<path fill=\"#e9965a\" stroke=\"black\" d=\"M270.65,-461.5C270.65,-461.5 177.65,-461.5 177.65,-461.5 171.65,-461.5 165.65,-455.5 165.65,-449.5 165.65,-449.5 165.65,-420.5 165.65,-420.5 165.65,-414.5 171.65,-408.5 177.65,-408.5 177.65,-408.5 270.65,-408.5 270.65,-408.5 276.65,-408.5 282.65,-414.5 282.65,-420.5 282.65,-420.5 282.65,-449.5 282.65,-449.5 282.65,-455.5 276.65,-461.5 270.65,-461.5\"/>\n<text text-anchor=\"start\" x=\"192.15\" y=\"-446.3\" font-family=\"Helvetica,sans-Serif\" font-size=\"14.00\">gini = 0.24</text>\n<text text-anchor=\"start\" x=\"179.15\" y=\"-431.3\" font-family=\"Helvetica,sans-Serif\" font-size=\"14.00\">samples = 253</text>\n<text text-anchor=\"start\" x=\"173.65\" y=\"-416.3\" font-family=\"Helvetica,sans-Serif\" font-size=\"14.00\">value = [217, 36]</text>\n</g>\n<!-- 1&#45;&gt;10 -->\n<g id=\"edge3\" class=\"edge\">\n<title>1&#45;&gt;10</title>\n<path fill=\"none\" stroke=\"black\" d=\"M224.15,-504.88C224.15,-494.33 224.15,-482.6 224.15,-471.85\"/>\n<polygon fill=\"black\" stroke=\"black\" points=\"227.65,-471.52 224.15,-461.52 220.65,-471.52 227.65,-471.52\"/>\n</g>\n<!-- 3 -->\n<g id=\"node6\" class=\"node\">\n<title>3</title>\n<path fill=\"#eba069\" stroke=\"black\" d=\"M424.15,-461.5C424.15,-461.5 338.15,-461.5 338.15,-461.5 332.15,-461.5 326.15,-455.5 326.15,-449.5 326.15,-449.5 326.15,-420.5 326.15,-420.5 326.15,-414.5 332.15,-408.5 338.15,-408.5 338.15,-408.5 424.15,-408.5 424.15,-408.5 430.15,-408.5 436.15,-414.5 436.15,-420.5 436.15,-420.5 436.15,-449.5 436.15,-449.5 436.15,-455.5 430.15,-461.5 424.15,-461.5\"/>\n<text text-anchor=\"start\" x=\"349.15\" y=\"-446.3\" font-family=\"Helvetica,sans-Serif\" font-size=\"14.00\">gini = 0.32</text>\n<text text-anchor=\"start\" x=\"340.15\" y=\"-431.3\" font-family=\"Helvetica,sans-Serif\" font-size=\"14.00\">samples = 51</text>\n<text text-anchor=\"start\" x=\"334.15\" y=\"-416.3\" font-family=\"Helvetica,sans-Serif\" font-size=\"14.00\">value = [41, 10]</text>\n</g>\n<!-- 2&#45;&gt;3 -->\n<g id=\"edge5\" class=\"edge\">\n<title>2&#45;&gt;3</title>\n<path fill=\"none\" stroke=\"black\" d=\"M381.15,-504.88C381.15,-494.33 381.15,-482.6 381.15,-471.85\"/>\n<polygon fill=\"black\" stroke=\"black\" points=\"384.65,-471.52 381.15,-461.52 377.65,-471.52 384.65,-471.52\"/>\n</g>\n<!-- 4 -->\n<g id=\"node7\" class=\"node\">\n<title>4</title>\n<path fill=\"#fbeadd\" stroke=\"black\" d=\"M578.15,-469C578.15,-469 492.15,-469 492.15,-469 486.15,-469 480.15,-463 480.15,-457 480.15,-457 480.15,-413 480.15,-413 480.15,-407 486.15,-401 492.15,-401 492.15,-401 578.15,-401 578.15,-401 584.15,-401 590.15,-407 590.15,-413 590.15,-413 590.15,-457 590.15,-457 590.15,-463 584.15,-469 578.15,-469\"/>\n<text text-anchor=\"start\" x=\"494.65\" y=\"-453.8\" font-family=\"Helvetica,sans-Serif\" font-size=\"14.00\">position ≤ 1.5</text>\n<text text-anchor=\"start\" x=\"507.15\" y=\"-438.8\" font-family=\"Helvetica,sans-Serif\" font-size=\"14.00\">gini = 0.5</text>\n<text text-anchor=\"start\" x=\"494.15\" y=\"-423.8\" font-family=\"Helvetica,sans-Serif\" font-size=\"14.00\">samples = 97</text>\n<text text-anchor=\"start\" x=\"488.15\" y=\"-408.8\" font-family=\"Helvetica,sans-Serif\" font-size=\"14.00\">value = [53, 44]</text>\n</g>\n<!-- 2&#45;&gt;4 -->\n<g id=\"edge6\" class=\"edge\">\n<title>2&#45;&gt;4</title>\n<path fill=\"none\" stroke=\"black\" d=\"M431.15,-504.88C445.61,-495.3 461.53,-484.76 476.47,-474.86\"/>\n<polygon fill=\"black\" stroke=\"black\" points=\"478.73,-477.56 485.14,-469.12 474.87,-471.73 478.73,-477.56\"/>\n</g>\n<!-- 5 -->\n<g id=\"node8\" class=\"node\">\n<title>5</title>\n<path fill=\"#81c1ee\" stroke=\"black\" d=\"M501.15,-365C501.15,-365 415.15,-365 415.15,-365 409.15,-365 403.15,-359 403.15,-353 403.15,-353 403.15,-309 403.15,-309 403.15,-303 409.15,-297 415.15,-297 415.15,-297 501.15,-297 501.15,-297 507.15,-297 513.15,-303 513.15,-309 513.15,-309 513.15,-353 513.15,-353 513.15,-359 507.15,-365 501.15,-365\"/>\n<text text-anchor=\"start\" x=\"424.65\" y=\"-349.8\" font-family=\"Helvetica,sans-Serif\" font-size=\"14.00\">club ≤ 36.5</text>\n<text text-anchor=\"start\" x=\"426.15\" y=\"-334.8\" font-family=\"Helvetica,sans-Serif\" font-size=\"14.00\">gini = 0.39</text>\n<text text-anchor=\"start\" x=\"417.15\" y=\"-319.8\" font-family=\"Helvetica,sans-Serif\" font-size=\"14.00\">samples = 45</text>\n<text text-anchor=\"start\" x=\"411.15\" y=\"-304.8\" font-family=\"Helvetica,sans-Serif\" font-size=\"14.00\">value = [12, 33]</text>\n</g>\n<!-- 4&#45;&gt;5 -->\n<g id=\"edge7\" class=\"edge\">\n<title>4&#45;&gt;5</title>\n<path fill=\"none\" stroke=\"black\" d=\"M510.15,-400.88C503.56,-392.15 496.37,-382.62 489.49,-373.51\"/>\n<polygon fill=\"black\" stroke=\"black\" points=\"492.11,-371.17 483.29,-365.3 486.52,-375.39 492.11,-371.17\"/>\n</g>\n<!-- 6 -->\n<g id=\"node15\" class=\"node\">\n<title>6</title>\n<path fill=\"#eca36e\" stroke=\"black\" d=\"M654.15,-357.5C654.15,-357.5 568.15,-357.5 568.15,-357.5 562.15,-357.5 556.15,-351.5 556.15,-345.5 556.15,-345.5 556.15,-316.5 556.15,-316.5 556.15,-310.5 562.15,-304.5 568.15,-304.5 568.15,-304.5 654.15,-304.5 654.15,-304.5 660.15,-304.5 666.15,-310.5 666.15,-316.5 666.15,-316.5 666.15,-345.5 666.15,-345.5 666.15,-351.5 660.15,-357.5 654.15,-357.5\"/>\n<text text-anchor=\"start\" x=\"579.15\" y=\"-342.3\" font-family=\"Helvetica,sans-Serif\" font-size=\"14.00\">gini = 0.33</text>\n<text text-anchor=\"start\" x=\"570.15\" y=\"-327.3\" font-family=\"Helvetica,sans-Serif\" font-size=\"14.00\">samples = 52</text>\n<text text-anchor=\"start\" x=\"564.15\" y=\"-312.3\" font-family=\"Helvetica,sans-Serif\" font-size=\"14.00\">value = [41, 11]</text>\n</g>\n<!-- 4&#45;&gt;6 -->\n<g id=\"edge14\" class=\"edge\">\n<title>4&#45;&gt;6</title>\n<path fill=\"none\" stroke=\"black\" d=\"M559.83,-400.88C568.18,-389.67 577.53,-377.13 585.93,-365.85\"/>\n<polygon fill=\"black\" stroke=\"black\" points=\"588.97,-367.63 592.14,-357.52 583.35,-363.45 588.97,-367.63\"/>\n</g>\n<!-- 7 -->\n<g id=\"node9\" class=\"node\">\n<title>7</title>\n<path fill=\"#ea9a61\" stroke=\"black\" d=\"M424.65,-253.5C424.65,-253.5 353.65,-253.5 353.65,-253.5 347.65,-253.5 341.65,-247.5 341.65,-241.5 341.65,-241.5 341.65,-212.5 341.65,-212.5 341.65,-206.5 347.65,-200.5 353.65,-200.5 353.65,-200.5 424.65,-200.5 424.65,-200.5 430.65,-200.5 436.65,-206.5 436.65,-212.5 436.65,-212.5 436.65,-241.5 436.65,-241.5 436.65,-247.5 430.65,-253.5 424.65,-253.5\"/>\n<text text-anchor=\"start\" x=\"357.15\" y=\"-238.3\" font-family=\"Helvetica,sans-Serif\" font-size=\"14.00\">gini = 0.28</text>\n<text text-anchor=\"start\" x=\"351.65\" y=\"-223.3\" font-family=\"Helvetica,sans-Serif\" font-size=\"14.00\">samples = 6</text>\n<text text-anchor=\"start\" x=\"349.65\" y=\"-208.3\" font-family=\"Helvetica,sans-Serif\" font-size=\"14.00\">value = [5, 1]</text>\n</g>\n<!-- 5&#45;&gt;7 -->\n<g id=\"edge8\" class=\"edge\">\n<title>5&#45;&gt;7</title>\n<path fill=\"none\" stroke=\"black\" d=\"M435.75,-296.88C428.16,-285.67 419.68,-273.13 412.05,-261.85\"/>\n<polygon fill=\"black\" stroke=\"black\" points=\"414.92,-259.84 406.41,-253.52 409.12,-263.76 414.92,-259.84\"/>\n</g>\n<!-- 8 -->\n<g id=\"node10\" class=\"node\">\n<title>8</title>\n<path fill=\"#64b2eb\" stroke=\"black\" d=\"M568.15,-261C568.15,-261 490.15,-261 490.15,-261 484.15,-261 478.15,-255 478.15,-249 478.15,-249 478.15,-205 478.15,-205 478.15,-199 484.15,-193 490.15,-193 490.15,-193 568.15,-193 568.15,-193 574.15,-193 580.15,-199 580.15,-205 580.15,-205 580.15,-249 580.15,-249 580.15,-255 574.15,-261 568.15,-261\"/>\n<text text-anchor=\"start\" x=\"492.65\" y=\"-245.8\" font-family=\"Helvetica,sans-Serif\" font-size=\"14.00\">team ≤ 17.0</text>\n<text text-anchor=\"start\" x=\"497.15\" y=\"-230.8\" font-family=\"Helvetica,sans-Serif\" font-size=\"14.00\">gini = 0.29</text>\n<text text-anchor=\"start\" x=\"488.15\" y=\"-215.8\" font-family=\"Helvetica,sans-Serif\" font-size=\"14.00\">samples = 39</text>\n<text text-anchor=\"start\" x=\"486.15\" y=\"-200.8\" font-family=\"Helvetica,sans-Serif\" font-size=\"14.00\">value = [7, 32]</text>\n</g>\n<!-- 5&#45;&gt;8 -->\n<g id=\"edge9\" class=\"edge\">\n<title>5&#45;&gt;8</title>\n<path fill=\"none\" stroke=\"black\" d=\"M481.2,-296.88C487.28,-288.15 493.91,-278.62 500.25,-269.51\"/>\n<polygon fill=\"black\" stroke=\"black\" points=\"503.13,-271.51 505.97,-261.3 497.39,-267.51 503.13,-271.51\"/>\n</g>\n<!-- 11 -->\n<g id=\"node11\" class=\"node\">\n<title>11</title>\n<path fill=\"#acd6f4\" stroke=\"black\" d=\"M501.65,-157C501.65,-157 392.65,-157 392.65,-157 386.65,-157 380.65,-151 380.65,-145 380.65,-145 380.65,-101 380.65,-101 380.65,-95 386.65,-89 392.65,-89 392.65,-89 501.65,-89 501.65,-89 507.65,-89 513.65,-95 513.65,-101 513.65,-101 513.65,-145 513.65,-145 513.65,-151 507.65,-157 501.65,-157\"/>\n<text text-anchor=\"start\" x=\"388.65\" y=\"-141.8\" font-family=\"Helvetica,sans-Serif\" font-size=\"14.00\">birth_year ≤ 1995.0</text>\n<text text-anchor=\"start\" x=\"415.15\" y=\"-126.8\" font-family=\"Helvetica,sans-Serif\" font-size=\"14.00\">gini = 0.47</text>\n<text text-anchor=\"start\" x=\"406.15\" y=\"-111.8\" font-family=\"Helvetica,sans-Serif\" font-size=\"14.00\">samples = 19</text>\n<text text-anchor=\"start\" x=\"404.15\" y=\"-96.8\" font-family=\"Helvetica,sans-Serif\" font-size=\"14.00\">value = [7, 12]</text>\n</g>\n<!-- 8&#45;&gt;11 -->\n<g id=\"edge10\" class=\"edge\">\n<title>8&#45;&gt;11</title>\n<path fill=\"none\" stroke=\"black\" d=\"M502.53,-192.88C495.44,-184.07 487.69,-174.43 480.3,-165.24\"/>\n<polygon fill=\"black\" stroke=\"black\" points=\"482.91,-162.9 473.92,-157.3 477.46,-167.29 482.91,-162.9\"/>\n</g>\n<!-- 12 -->\n<g id=\"node14\" class=\"node\">\n<title>12</title>\n<path fill=\"#399de5\" stroke=\"black\" d=\"M649.15,-149.5C649.15,-149.5 571.15,-149.5 571.15,-149.5 565.15,-149.5 559.15,-143.5 559.15,-137.5 559.15,-137.5 559.15,-108.5 559.15,-108.5 559.15,-102.5 565.15,-96.5 571.15,-96.5 571.15,-96.5 649.15,-96.5 649.15,-96.5 655.15,-96.5 661.15,-102.5 661.15,-108.5 661.15,-108.5 661.15,-137.5 661.15,-137.5 661.15,-143.5 655.15,-149.5 649.15,-149.5\"/>\n<text text-anchor=\"start\" x=\"582.15\" y=\"-134.3\" font-family=\"Helvetica,sans-Serif\" font-size=\"14.00\">gini = 0.0</text>\n<text text-anchor=\"start\" x=\"569.15\" y=\"-119.3\" font-family=\"Helvetica,sans-Serif\" font-size=\"14.00\">samples = 20</text>\n<text text-anchor=\"start\" x=\"567.15\" y=\"-104.3\" font-family=\"Helvetica,sans-Serif\" font-size=\"14.00\">value = [0, 20]</text>\n</g>\n<!-- 8&#45;&gt;12 -->\n<g id=\"edge13\" class=\"edge\">\n<title>8&#45;&gt;12</title>\n<path fill=\"none\" stroke=\"black\" d=\"M555.45,-192.88C564.44,-181.56 574.51,-168.88 583.53,-157.52\"/>\n<polygon fill=\"black\" stroke=\"black\" points=\"586.41,-159.53 589.88,-149.52 580.92,-155.17 586.41,-159.53\"/>\n</g>\n<!-- 13 -->\n<g id=\"node12\" class=\"node\">\n<title>13</title>\n<path fill=\"#52a9e8\" stroke=\"black\" d=\"M414.65,-52.5C414.65,-52.5 343.65,-52.5 343.65,-52.5 337.65,-52.5 331.65,-46.5 331.65,-40.5 331.65,-40.5 331.65,-11.5 331.65,-11.5 331.65,-5.5 337.65,0.5 343.65,0.5 343.65,0.5 414.65,0.5 414.65,0.5 420.65,0.5 426.65,-5.5 426.65,-11.5 426.65,-11.5 426.65,-40.5 426.65,-40.5 426.65,-46.5 420.65,-52.5 414.65,-52.5\"/>\n<text text-anchor=\"start\" x=\"351.15\" y=\"-37.3\" font-family=\"Helvetica,sans-Serif\" font-size=\"14.00\">gini = 0.2</text>\n<text text-anchor=\"start\" x=\"341.65\" y=\"-22.3\" font-family=\"Helvetica,sans-Serif\" font-size=\"14.00\">samples = 9</text>\n<text text-anchor=\"start\" x=\"339.65\" y=\"-7.3\" font-family=\"Helvetica,sans-Serif\" font-size=\"14.00\">value = [1, 8]</text>\n</g>\n<!-- 11&#45;&gt;13 -->\n<g id=\"edge11\" class=\"edge\">\n<title>11&#45;&gt;13</title>\n<path fill=\"none\" stroke=\"black\" d=\"M423.37,-88.77C416.92,-79.77 409.94,-70.02 403.47,-60.97\"/>\n<polygon fill=\"black\" stroke=\"black\" points=\"406.12,-58.67 397.45,-52.57 400.43,-62.74 406.12,-58.67\"/>\n</g>\n<!-- 14 -->\n<g id=\"node13\" class=\"node\">\n<title>14</title>\n<path fill=\"#f6d5bd\" stroke=\"black\" d=\"M554.15,-52.5C554.15,-52.5 480.15,-52.5 480.15,-52.5 474.15,-52.5 468.15,-46.5 468.15,-40.5 468.15,-40.5 468.15,-11.5 468.15,-11.5 468.15,-5.5 474.15,0.5 480.15,0.5 480.15,0.5 554.15,0.5 554.15,0.5 560.15,0.5 566.15,-5.5 566.15,-11.5 566.15,-11.5 566.15,-40.5 566.15,-40.5 566.15,-46.5 560.15,-52.5 554.15,-52.5\"/>\n<text text-anchor=\"start\" x=\"485.15\" y=\"-37.3\" font-family=\"Helvetica,sans-Serif\" font-size=\"14.00\">gini = 0.48</text>\n<text text-anchor=\"start\" x=\"476.15\" y=\"-22.3\" font-family=\"Helvetica,sans-Serif\" font-size=\"14.00\">samples = 10</text>\n<text text-anchor=\"start\" x=\"477.65\" y=\"-7.3\" font-family=\"Helvetica,sans-Serif\" font-size=\"14.00\">value = [6, 4]</text>\n</g>\n<!-- 11&#45;&gt;14 -->\n<g id=\"edge12\" class=\"edge\">\n<title>11&#45;&gt;14</title>\n<path fill=\"none\" stroke=\"black\" d=\"M471.63,-88.77C478.33,-79.68 485.6,-69.82 492.32,-60.69\"/>\n<polygon fill=\"black\" stroke=\"black\" points=\"495.19,-62.7 498.31,-52.57 489.56,-58.55 495.19,-62.7\"/>\n</g>\n</g>\n</svg>\n"
          },
          "metadata": {},
          "execution_count": 33
        }
      ]
    },
    {
      "cell_type": "markdown",
      "source": [
        "Essa árvore usa uma amostra de 510 jogadores, e 91 deles marcaram gol. O primeiro nó avalia a quantidade de jogos daqueles jogadores, dos que jogaram mais que 3 jogos, 54 marcaram gol (57%), e a partir daí outros splits são feitos. Para facilitar a compreensão dos nós que avaliam posições de jogadores, aqui estão os índices das posições:\n",
        "Posições dos jogadores:\n",
        "- 0 - DF (defensor) \n",
        "- 1 - FW (atacante)\n",
        "- 2 - GK (goleiro)\n",
        "- 3 - MF (meio-campista)\n"
      ],
      "metadata": {
        "id": "qkbOLZhNyYnc"
      }
    },
    {
      "cell_type": "markdown",
      "source": [],
      "metadata": {
        "id": "oLqFU-gR6POw"
      }
    },
    {
      "cell_type": "markdown",
      "source": [
        "# Passo 12: Criando umaRandom Forest\n",
        "A árvore de decisão não pode crescer muito pois os dadosvão ficando escassos a cada split. Então um insigth do estatístico Leo Breiman foi usar várias árvores para gerar predições, e calcular a média entre essas predições, pois como cada modelo não tem relação entre si, o erro dessa média é zero, ou seja, a predição resultante é a correta. E essa técnica foi chamada de bagging."
      ],
      "metadata": {
        "id": "9rvvFO6YAQYV"
      }
    },
    {
      "cell_type": "code",
      "source": [
        "from sklearn.ensemble import RandomForestClassifier\n",
        "from sklearn.metrics import mean_absolute_error\n",
        "\n",
        "rf = RandomForestClassifier(100, min_samples_leaf=5)\n",
        "rf.fit(treinamento_xs, treinamento_y);\n",
        "mean_absolute_error(validacao_y, rf.predict(validacao_xs))"
      ],
      "metadata": {
        "colab": {
          "base_uri": "https://localhost:8080/"
        },
        "id": "9zyMkPzLAagJ",
        "outputId": "45e6da17-88c0-49c3-a1b5-bfce43b7dba0"
      },
      "execution_count": 26,
      "outputs": [
        {
          "output_type": "execute_result",
          "data": {
            "text/plain": [
              "0.13529411764705881"
            ]
          },
          "metadata": {},
          "execution_count": 26
        }
      ]
    },
    {
      "cell_type": "markdown",
      "source": [
        "# Passo 13: Exportando o modelo utilizando a biblioteca `joblib`"
      ],
      "metadata": {
        "id": "4H4Q2X90CTfP"
      }
    },
    {
      "cell_type": "code",
      "source": [
        "import joblib\n",
        "joblib.dump(rf, 'licao6.joblib')"
      ],
      "metadata": {
        "colab": {
          "base_uri": "https://localhost:8080/"
        },
        "id": "7CTy5ODZBnKr",
        "outputId": "534b8695-bca0-49fc-fdf0-9eb30ab85b95"
      },
      "execution_count": 27,
      "outputs": [
        {
          "output_type": "execute_result",
          "data": {
            "text/plain": [
              "['licao6.joblib']"
            ]
          },
          "metadata": {},
          "execution_count": 27
        }
      ]
    },
    {
      "cell_type": "code",
      "source": [
        "dataFrame_estatisticas.to_csv(\"dataFrame_estatisticas.csv\")"
      ],
      "metadata": {
        "id": "xHQ1_ivhF0rx"
      },
      "execution_count": 36,
      "outputs": []
    },
    {
      "cell_type": "markdown",
      "source": [
        "# Conclusão\n",
        "Importantes conceitos são explicados e implementados nessa lição, como Binary Split, Decision Tree, Random Forest e Bagging. O dataset utilizado nesta lição não tem uma competição atrelado à ele, então ele serviu um propósito mais didático para exercitar os conceitos da lição e não é possível verificar a corretude das predições com outros modelos de outros estudantes.\n"
      ],
      "metadata": {
        "id": "g6o0_MekrgIg"
      }
    },
    {
      "cell_type": "markdown",
      "source": [
        "# Referências\n",
        "[How random forests really work](https://www.kaggle.com/code/jhoward/how-random-forests-really-work/#The-random-forest)"
      ],
      "metadata": {
        "id": "iBwlt5M2JJ3c"
      }
    }
  ]
}